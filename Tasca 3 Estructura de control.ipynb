{
 "cells": [
  {
   "cell_type": "markdown",
   "metadata": {},
   "source": [
    "# **Sprint 3** - Tasca 3: Estructura de control"
   ]
  },
  {
   "cell_type": "markdown",
   "metadata": {},
   "source": [
    "## Exercici 1"
   ]
  },
  {
   "cell_type": "code",
   "execution_count": 1,
   "metadata": {},
   "outputs": [
    {
     "name": "stdout",
     "output_type": "stream",
     "text": [
      "Entra la nota a avaluar:4\n"
     ]
    },
    {
     "data": {
      "text/plain": [
       "'Suspès'"
      ]
     },
     "execution_count": 1,
     "metadata": {},
     "output_type": "execute_result"
    }
   ],
   "source": [
    "def avaluar(nota):\n",
    "    # al ser valors fixes guardem les notes en una tupla\n",
    "    notes = (\"Suspès\",\"Aprovat\",\"Notable\",\"Excel·lent\")\n",
    "    if 0 <= nota < 5: return notes[0]\n",
    "    elif 5 <= nota < 7: return notes[1]\n",
    "    elif 7 <= nota < 9: return notes[2]\n",
    "    elif 9 <= nota <= 10: return notes[3]\n",
    "    else: return \"El valor introduït no és avaluable\"\n",
    "    \n",
    "# convertim a float l'input perque funcioni correctament, al jupyter notebook tornava string\n",
    "avaluar(float(input(\"Entra la nota a avaluar:\")))"
   ]
  },
  {
   "cell_type": "markdown",
   "metadata": {},
   "source": [
    "## Exercici 2"
   ]
  },
  {
   "cell_type": "code",
   "execution_count": 11,
   "metadata": {},
   "outputs": [
    {
     "name": "stdout",
     "output_type": "stream",
     "text": [
      "Entra el primer número:3\n",
      "Entra el segon número:4\n"
     ]
    },
    {
     "data": {
      "text/plain": [
       "'El segon número 4.0 és més gran'"
      ]
     },
     "execution_count": 11,
     "metadata": {},
     "output_type": "execute_result"
    }
   ],
   "source": [
    "def mesGran(primer, segon):\n",
    "    if primer > segon: return \"El primer número {} és més gran\".format(primer)\n",
    "    elif primer < segon: return \"El segon número {} és més gran\".format(segon)\n",
    "    elif primer == segon: return \"El dos números son iguals\"\n",
    "    else: return \"El valors introduïts no és poden avaluar\"\n",
    "    \n",
    "# convertim a float l'input perque funcioni correctament, al jupyter notebook tornava string\n",
    "mesGran(float(input(\"Entra el primer número:\")), float(input(\"Entra el segon número:\")))"
   ]
  },
  {
   "cell_type": "markdown",
   "metadata": {},
   "source": [
    "## Exercici 3"
   ]
  },
  {
   "cell_type": "code",
   "execution_count": 20,
   "metadata": {},
   "outputs": [
    {
     "name": "stdout",
     "output_type": "stream",
     "text": [
      "Entra el teu nom:Joan\n",
      "Entra el número de repeticions:3\n"
     ]
    },
    {
     "data": {
      "text/plain": [
       "'Joan Joan Joan '"
      ]
     },
     "execution_count": 20,
     "metadata": {},
     "output_type": "execute_result"
    }
   ],
   "source": [
    "def repetirNom(nom, repeticions):\n",
    "    # afegim la validació que no sigui tampoc negatiu ja que la descripció del programa no contempla aquests casos\n",
    "    if repeticions <= 0: return \"El número de repeticions no pot ser 0 o negatiu\"\n",
    "    else: return (nom + ' ') * repeticions\n",
    "    \n",
    "# convertim a int l'input de repeticions perque funcioni correctament, al jupyter notebook tornava string\n",
    "repetirNom(input(\"Entra el teu nom:\"), int(input(\"Entra el número de repeticions:\")))"
   ]
  },
  {
   "cell_type": "markdown",
   "metadata": {},
   "source": [
    "## Exercici 4"
   ]
  },
  {
   "cell_type": "code",
   "execution_count": 6,
   "metadata": {},
   "outputs": [
    {
     "name": "stdout",
     "output_type": "stream",
     "text": [
      "La llista és simètrica i conté 5 elements\n",
      "La llista no és simètrica\n"
     ]
    }
   ],
   "source": [
    "def esSimetrica(llista):\n",
    "    longitud = len(llista)\n",
    "    simetrica = True\n",
    "    for i in range(longitud // 2):\n",
    "      if llista[i] != llista[longitud-i-1]: \n",
    "        simetrica = False\n",
    "        print(\"La llista no és simètrica\")\n",
    "        break\n",
    "    if simetrica: print(\"La llista és simètrica i conté {} elements\".format(longitud))\n",
    "        \n",
    "llista1 = [\"gos\", \"gat\", \"ase\", \"gat\", \"gos\"]\n",
    "llista2 = [\"gos\", \"gat\", \"ase\", \"ocell\", \"gat\", \"gos\"]\n",
    "\n",
    "# fem una prova amb una llista simètrica i una que no \n",
    "esSimetrica(llista1)\n",
    "esSimetrica(llista2)"
   ]
  },
  {
   "cell_type": "markdown",
   "metadata": {},
   "source": [
    "## Exercici 5"
   ]
  },
  {
   "cell_type": "code",
   "execution_count": 13,
   "metadata": {},
   "outputs": [
    {
     "name": "stdout",
     "output_type": "stream",
     "text": [
      "La llista no te cap coincidència\n",
      "La llista te 3 coincidències\n"
     ]
    }
   ],
   "source": [
    "def coincidencies(llista):\n",
    "    longitud = len(llista)\n",
    "    coincideix = 0\n",
    "    for i in range(len(llista)):\n",
    "      if llista[i] == i: \n",
    "        coincideix += 1\n",
    "\n",
    "    if coincideix > 0: print(\"La llista te {} coincidències\".format(coincideix))\n",
    "    else: print(\"La llista no te cap coincidència\")\n",
    "        \n",
    "llista1 = [3,2,9,0,8]\n",
    "llista2 = [0,2,2,4,4]\n",
    "\n",
    "# fem una prova amb una llista simètrica i una que no \n",
    "coincidencies(llista1)\n",
    "coincidencies(llista2)\n"
   ]
  },
  {
   "cell_type": "code",
   "execution_count": null,
   "metadata": {},
   "outputs": [],
   "source": []
  }
 ],
 "metadata": {
  "kernelspec": {
   "display_name": "Python 3",
   "language": "python",
   "name": "python3"
  },
  "language_info": {
   "codemirror_mode": {
    "name": "ipython",
    "version": 3
   },
   "file_extension": ".py",
   "mimetype": "text/x-python",
   "name": "python",
   "nbconvert_exporter": "python",
   "pygments_lexer": "ipython3",
   "version": "3.8.5"
  }
 },
 "nbformat": 4,
 "nbformat_minor": 2
}
